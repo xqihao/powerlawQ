{
 "cells": [
  {
   "cell_type": "markdown",
   "id": "4a075ea9",
   "metadata": {},
   "source": [
    "### Scale the weighting function coefficients"
   ]
  },
  {
   "cell_type": "code",
   "execution_count": 1,
   "id": "70eb4e63",
   "metadata": {},
   "outputs": [],
   "source": [
    "import numpy as np"
   ]
  },
  {
   "cell_type": "code",
   "execution_count": 2,
   "id": "b0222e94",
   "metadata": {},
   "outputs": [],
   "source": [
    "#### tauSigma and tauEpsilon for the frequency range [1, 200] Hz\n",
    "tauSigma1to200   = np.array([1.8230838e-01, 3.2947348e-02, 8.4325390e-03, 2.3560480e-03, 5.1033826e-04])\n",
    "dtau1to200       = np.array([2.7518001e-01, 3.0329269e-02, 6.9820198e-03, 1.9223614e-03, 7.2390630e-04])\n",
    "tauEpsilon1to200 = tauSigma1to200 + dtau1to200"
   ]
  },
  {
   "cell_type": "code",
   "execution_count": 3,
   "id": "e324001f",
   "metadata": {},
   "outputs": [],
   "source": [
    "### scale the [1, 200]-Hz coefficients to those for [0.015, 3] Hz.\n",
    "scale_fac  = 2\n",
    "tauSigma   = tauSigma1to200 / scale_fac\n",
    "dtau1to200  = dtau1to200  / scale_fac"
   ]
  },
  {
   "cell_type": "code",
   "execution_count": 4,
   "id": "fa55018c",
   "metadata": {},
   "outputs": [],
   "source": [
    "np.set_printoptions(formatter={'float': lambda x: format(x, '.7e')})"
   ]
  },
  {
   "cell_type": "code",
   "execution_count": 5,
   "id": "011089ca",
   "metadata": {},
   "outputs": [
    {
     "data": {
      "text/plain": [
       "array([9.1154190e-02, 1.6473674e-02, 4.2162695e-03, 1.1780240e-03,\n",
       "       2.5516913e-04])"
      ]
     },
     "execution_count": 5,
     "metadata": {},
     "output_type": "execute_result"
    }
   ],
   "source": [
    "tauSigma"
   ]
  },
  {
   "cell_type": "code",
   "execution_count": 6,
   "id": "824cf0db",
   "metadata": {},
   "outputs": [
    {
     "data": {
      "text/plain": [
       "array([1.3759000e-01, 1.5164634e-02, 3.4910099e-03, 9.6118070e-04,\n",
       "       3.6195315e-04])"
      ]
     },
     "execution_count": 6,
     "metadata": {},
     "output_type": "execute_result"
    }
   ],
   "source": [
    "dtau1to200"
   ]
  },
  {
   "cell_type": "code",
   "execution_count": null,
   "id": "bfb7cf50",
   "metadata": {},
   "outputs": [],
   "source": []
  },
  {
   "cell_type": "code",
   "execution_count": null,
   "id": "05582c67",
   "metadata": {},
   "outputs": [],
   "source": []
  },
  {
   "cell_type": "code",
   "execution_count": null,
   "id": "422ab52f",
   "metadata": {},
   "outputs": [],
   "source": []
  },
  {
   "cell_type": "code",
   "execution_count": null,
   "id": "7c07e09a",
   "metadata": {},
   "outputs": [],
   "source": []
  }
 ],
 "metadata": {
  "kernelspec": {
   "display_name": "Python 3",
   "language": "python",
   "name": "python3"
  },
  "language_info": {
   "codemirror_mode": {
    "name": "ipython",
    "version": 3
   },
   "file_extension": ".py",
   "mimetype": "text/x-python",
   "name": "python",
   "nbconvert_exporter": "python",
   "pygments_lexer": "ipython3",
   "version": "3.8.8"
  }
 },
 "nbformat": 4,
 "nbformat_minor": 5
}
